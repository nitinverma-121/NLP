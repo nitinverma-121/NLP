{
 "cells": [
  {
   "attachments": {},
   "cell_type": "markdown",
   "id": "7ef901e1",
   "metadata": {},
   "source": [
    "# SPACY"
   ]
  },
  {
   "cell_type": "code",
   "execution_count": 6,
   "id": "c60c2dbf",
   "metadata": {},
   "outputs": [],
   "source": [
    "import spacy\n",
    "nlp= spacy.load('en_core_web_sm')"
   ]
  },
  {
   "cell_type": "code",
   "execution_count": 15,
   "id": "1dffde2b",
   "metadata": {},
   "outputs": [
    {
     "name": "stdout",
     "output_type": "stream",
     "text": [
      "i am from india.\n",
      "i love my country\n"
     ]
    }
   ],
   "source": [
    "doc= nlp(\"i am from india. i love my country\")\n",
    "\n",
    "for sentence in doc.sents:\n",
    "    print(sentence)"
   ]
  },
  {
   "cell_type": "code",
   "execution_count": 11,
   "id": "53796530",
   "metadata": {},
   "outputs": [
    {
     "name": "stdout",
     "output_type": "stream",
     "text": [
      "i\n",
      "am\n",
      "from\n",
      "india\n",
      ".\n",
      "i\n",
      "love\n",
      "my\n",
      "country\n"
     ]
    }
   ],
   "source": [
    "doc= nlp(\"i am from india. i love my country\")\n",
    "\n",
    "for sentence in doc.sents:\n",
    "    for word in sentence:\n",
    "        print(word)\n"
   ]
  },
  {
   "attachments": {},
   "cell_type": "markdown",
   "id": "5e504332",
   "metadata": {},
   "source": [
    "# NLTK"
   ]
  },
  {
   "cell_type": "code",
   "execution_count": 27,
   "id": "6381bb33",
   "metadata": {},
   "outputs": [],
   "source": [
    "import nltk\n",
    "from nltk.tokenize import sent_tokenize, word_tokenize"
   ]
  },
  {
   "cell_type": "code",
   "execution_count": 25,
   "id": "7fb56d1c",
   "metadata": {},
   "outputs": [
    {
     "data": {
      "text/plain": [
       "['Dr. strange is a good person beacuse cares about people.']"
      ]
     },
     "execution_count": 25,
     "metadata": {},
     "output_type": "execute_result"
    }
   ],
   "source": [
    "sent_tokenize(\"Dr. strange is a good person beacuse he cares about people.\")"
   ]
  },
  {
   "cell_type": "code",
   "execution_count": 28,
   "id": "411e93cb",
   "metadata": {},
   "outputs": [
    {
     "data": {
      "text/plain": [
       "['Dr.',\n",
       " 'strange',\n",
       " 'is',\n",
       " 'a',\n",
       " 'good',\n",
       " 'person',\n",
       " 'beacuse',\n",
       " 'he',\n",
       " 'cares',\n",
       " 'about',\n",
       " 'people',\n",
       " '.']"
      ]
     },
     "execution_count": 28,
     "metadata": {},
     "output_type": "execute_result"
    }
   ],
   "source": [
    "word_tokenize(\"Dr. strange is a good person beacuse he cares about people.\")"
   ]
  }
 ],
 "metadata": {
  "kernelspec": {
   "display_name": "Python 3 (ipykernel)",
   "language": "python",
   "name": "python3"
  },
  "language_info": {
   "codemirror_mode": {
    "name": "ipython",
    "version": 3
   },
   "file_extension": ".py",
   "mimetype": "text/x-python",
   "name": "python",
   "nbconvert_exporter": "python",
   "pygments_lexer": "ipython3",
   "version": "3.10.7"
  }
 },
 "nbformat": 4,
 "nbformat_minor": 5
}

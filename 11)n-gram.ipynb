{
 "cells": [
  {
   "cell_type": "code",
   "execution_count": 6,
   "metadata": {},
   "outputs": [],
   "source": [
    "import spacy\n",
    "from sklearn.feature_extraction.text import CountVectorizer\n",
    "nlp= spacy.load('en_core_web_sm')"
   ]
  },
  {
   "cell_type": "code",
   "execution_count": 35,
   "metadata": {},
   "outputs": [
    {
     "data": {
      "text/plain": [
       "array([[0, 0, 1, 1, 1, 1, 0, 1],\n",
       "       [1, 1, 0, 0, 0, 0, 1, 1]], dtype=int64)"
      ]
     },
     "execution_count": 35,
     "metadata": {},
     "output_type": "execute_result"
    }
   ],
   "source": [
    "# convert this text into a vector #using BOW\n",
    "corpus= [\"you have faith in god\", \"you are so beautiful\"]\n",
    "\n",
    "v= CountVectorizer()\n",
    "\n",
    "t= v.fit_transform(corpus)\n",
    "\n",
    "a= t.toarray()\n",
    "a"
   ]
  },
  {
   "cell_type": "code",
   "execution_count": 37,
   "metadata": {},
   "outputs": [
    {
     "data": {
      "text/plain": [
       "{'you have': 3, 'have faith': 1, 'faith in': 0, 'in god': 2}"
      ]
     },
     "execution_count": 37,
     "metadata": {},
     "output_type": "execute_result"
    }
   ],
   "source": [
    "# convert this text into a vector #using n gram\n",
    "\n",
    "corpus= ['you have faith in god']\n",
    "v= CountVectorizer(ngram_range=(2, 2))\n",
    "v.fit_transform(corpus)\n",
    "\n",
    "v.vocabulary_\n"
   ]
  },
  {
   "cell_type": "code",
   "execution_count": 39,
   "metadata": {},
   "outputs": [
    {
     "data": {
      "text/plain": [
       "{'you': 7,\n",
       " 'have': 3,\n",
       " 'faith': 0,\n",
       " 'in': 5,\n",
       " 'god': 2,\n",
       " 'you have': 8,\n",
       " 'have faith': 4,\n",
       " 'faith in': 1,\n",
       " 'in god': 6}"
      ]
     },
     "execution_count": 39,
     "metadata": {},
     "output_type": "execute_result"
    }
   ],
   "source": [
    "#Combination of 1 and 2 gram\n",
    "v= CountVectorizer(ngram_range=(1, 2))\n",
    "v.fit_transform(corpus)\n",
    "\n",
    "v.vocabulary_"
   ]
  },
  {
   "cell_type": "markdown",
   "metadata": {},
   "source": [
    "News classification"
   ]
  },
  {
   "cell_type": "code",
   "execution_count": 40,
   "metadata": {},
   "outputs": [],
   "source": [
    "import pandas as pd"
   ]
  },
  {
   "cell_type": "code",
   "execution_count": 47,
   "metadata": {},
   "outputs": [
    {
     "data": {
      "text/html": [
       "<div>\n",
       "<style scoped>\n",
       "    .dataframe tbody tr th:only-of-type {\n",
       "        vertical-align: middle;\n",
       "    }\n",
       "\n",
       "    .dataframe tbody tr th {\n",
       "        vertical-align: top;\n",
       "    }\n",
       "\n",
       "    .dataframe thead th {\n",
       "        text-align: right;\n",
       "    }\n",
       "</style>\n",
       "<table border=\"1\" class=\"dataframe\">\n",
       "  <thead>\n",
       "    <tr style=\"text-align: right;\">\n",
       "      <th></th>\n",
       "      <th>link</th>\n",
       "      <th>headline</th>\n",
       "      <th>category</th>\n",
       "      <th>short_description</th>\n",
       "      <th>authors</th>\n",
       "      <th>date</th>\n",
       "    </tr>\n",
       "  </thead>\n",
       "  <tbody>\n",
       "    <tr>\n",
       "      <th>0</th>\n",
       "      <td>https://www.huffpost.com/entry/covid-boosters-...</td>\n",
       "      <td>Over 4 Million Americans Roll Up Sleeves For O...</td>\n",
       "      <td>U.S. NEWS</td>\n",
       "      <td>Health experts said it is too early to predict...</td>\n",
       "      <td>Carla K. Johnson, AP</td>\n",
       "      <td>2022-09-23</td>\n",
       "    </tr>\n",
       "    <tr>\n",
       "      <th>1</th>\n",
       "      <td>https://www.huffpost.com/entry/american-airlin...</td>\n",
       "      <td>American Airlines Flyer Charged, Banned For Li...</td>\n",
       "      <td>U.S. NEWS</td>\n",
       "      <td>He was subdued by passengers and crew when he ...</td>\n",
       "      <td>Mary Papenfuss</td>\n",
       "      <td>2022-09-23</td>\n",
       "    </tr>\n",
       "    <tr>\n",
       "      <th>2</th>\n",
       "      <td>https://www.huffpost.com/entry/funniest-tweets...</td>\n",
       "      <td>23 Of The Funniest Tweets About Cats And Dogs ...</td>\n",
       "      <td>COMEDY</td>\n",
       "      <td>\"Until you have a dog you don't understand wha...</td>\n",
       "      <td>Elyse Wanshel</td>\n",
       "      <td>2022-09-23</td>\n",
       "    </tr>\n",
       "    <tr>\n",
       "      <th>3</th>\n",
       "      <td>https://www.huffpost.com/entry/funniest-parent...</td>\n",
       "      <td>The Funniest Tweets From Parents This Week (Se...</td>\n",
       "      <td>PARENTING</td>\n",
       "      <td>\"Accidentally put grown-up toothpaste on my to...</td>\n",
       "      <td>Caroline Bologna</td>\n",
       "      <td>2022-09-23</td>\n",
       "    </tr>\n",
       "    <tr>\n",
       "      <th>4</th>\n",
       "      <td>https://www.huffpost.com/entry/amy-cooper-lose...</td>\n",
       "      <td>Woman Who Called Cops On Black Bird-Watcher Lo...</td>\n",
       "      <td>U.S. NEWS</td>\n",
       "      <td>Amy Cooper accused investment firm Franklin Te...</td>\n",
       "      <td>Nina Golgowski</td>\n",
       "      <td>2022-09-22</td>\n",
       "    </tr>\n",
       "  </tbody>\n",
       "</table>\n",
       "</div>"
      ],
      "text/plain": [
       "                                                link  \\\n",
       "0  https://www.huffpost.com/entry/covid-boosters-...   \n",
       "1  https://www.huffpost.com/entry/american-airlin...   \n",
       "2  https://www.huffpost.com/entry/funniest-tweets...   \n",
       "3  https://www.huffpost.com/entry/funniest-parent...   \n",
       "4  https://www.huffpost.com/entry/amy-cooper-lose...   \n",
       "\n",
       "                                            headline   category  \\\n",
       "0  Over 4 Million Americans Roll Up Sleeves For O...  U.S. NEWS   \n",
       "1  American Airlines Flyer Charged, Banned For Li...  U.S. NEWS   \n",
       "2  23 Of The Funniest Tweets About Cats And Dogs ...     COMEDY   \n",
       "3  The Funniest Tweets From Parents This Week (Se...  PARENTING   \n",
       "4  Woman Who Called Cops On Black Bird-Watcher Lo...  U.S. NEWS   \n",
       "\n",
       "                                   short_description               authors  \\\n",
       "0  Health experts said it is too early to predict...  Carla K. Johnson, AP   \n",
       "1  He was subdued by passengers and crew when he ...        Mary Papenfuss   \n",
       "2  \"Until you have a dog you don't understand wha...         Elyse Wanshel   \n",
       "3  \"Accidentally put grown-up toothpaste on my to...      Caroline Bologna   \n",
       "4  Amy Cooper accused investment firm Franklin Te...        Nina Golgowski   \n",
       "\n",
       "        date  \n",
       "0 2022-09-23  \n",
       "1 2022-09-23  \n",
       "2 2022-09-23  \n",
       "3 2022-09-23  \n",
       "4 2022-09-22  "
      ]
     },
     "execution_count": 47,
     "metadata": {},
     "output_type": "execute_result"
    }
   ],
   "source": [
    "data= pd.read_json('resources/News_Category_Dataset_v3.json', lines= True)\n",
    "data.head()"
   ]
  },
  {
   "cell_type": "code",
   "execution_count": 53,
   "metadata": {},
   "outputs": [],
   "source": [
    "data= data.drop(columns=['link', 'headline', 'authors', 'date'])"
   ]
  },
  {
   "cell_type": "code",
   "execution_count": 55,
   "metadata": {},
   "outputs": [
    {
     "data": {
      "text/plain": [
       "POLITICS          35602\n",
       "WELLNESS          17945\n",
       "ENTERTAINMENT     17362\n",
       "TRAVEL             9900\n",
       "STYLE & BEAUTY     9814\n",
       "PARENTING          8791\n",
       "HEALTHY LIVING     6694\n",
       "QUEER VOICES       6347\n",
       "FOOD & DRINK       6340\n",
       "BUSINESS           5992\n",
       "COMEDY             5400\n",
       "SPORTS             5077\n",
       "BLACK VOICES       4583\n",
       "HOME & LIVING      4320\n",
       "PARENTS            3955\n",
       "THE WORLDPOST      3664\n",
       "WEDDINGS           3653\n",
       "WOMEN              3572\n",
       "CRIME              3562\n",
       "IMPACT             3484\n",
       "DIVORCE            3426\n",
       "WORLD NEWS         3299\n",
       "MEDIA              2944\n",
       "WEIRD NEWS         2777\n",
       "GREEN              2622\n",
       "WORLDPOST          2579\n",
       "RELIGION           2577\n",
       "STYLE              2254\n",
       "SCIENCE            2206\n",
       "TECH               2104\n",
       "TASTE              2096\n",
       "MONEY              1756\n",
       "ARTS               1509\n",
       "ENVIRONMENT        1444\n",
       "FIFTY              1401\n",
       "GOOD NEWS          1398\n",
       "U.S. NEWS          1377\n",
       "ARTS & CULTURE     1339\n",
       "COLLEGE            1144\n",
       "LATINO VOICES      1130\n",
       "CULTURE & ARTS     1074\n",
       "EDUCATION          1014\n",
       "Name: category, dtype: int64"
      ]
     },
     "execution_count": 55,
     "metadata": {},
     "output_type": "execute_result"
    }
   ],
   "source": [
    "data.category.value_counts()"
   ]
  },
  {
   "cell_type": "code",
   "execution_count": 59,
   "metadata": {},
   "outputs": [
    {
     "data": {
      "text/html": [
       "<div>\n",
       "<style scoped>\n",
       "    .dataframe tbody tr th:only-of-type {\n",
       "        vertical-align: middle;\n",
       "    }\n",
       "\n",
       "    .dataframe tbody tr th {\n",
       "        vertical-align: top;\n",
       "    }\n",
       "\n",
       "    .dataframe thead th {\n",
       "        text-align: right;\n",
       "    }\n",
       "</style>\n",
       "<table border=\"1\" class=\"dataframe\">\n",
       "  <thead>\n",
       "    <tr style=\"text-align: right;\">\n",
       "      <th></th>\n",
       "      <th>category</th>\n",
       "      <th>short_description</th>\n",
       "    </tr>\n",
       "  </thead>\n",
       "  <tbody>\n",
       "    <tr>\n",
       "      <th>20</th>\n",
       "      <td>ENTERTAINMENT</td>\n",
       "      <td>For the past 18 months, Hollywood has effectiv...</td>\n",
       "    </tr>\n",
       "    <tr>\n",
       "      <th>21</th>\n",
       "      <td>POLITICS</td>\n",
       "      <td>President issues vow as tensions with China rise.</td>\n",
       "    </tr>\n",
       "    <tr>\n",
       "      <th>24</th>\n",
       "      <td>POLITICS</td>\n",
       "      <td>An annual celebration took on a different feel...</td>\n",
       "    </tr>\n",
       "    <tr>\n",
       "      <th>28</th>\n",
       "      <td>ENTERTAINMENT</td>\n",
       "      <td>The \"Avatar\" director said aspects of his 2009...</td>\n",
       "    </tr>\n",
       "    <tr>\n",
       "      <th>30</th>\n",
       "      <td>POLITICS</td>\n",
       "      <td>U.S. President Joe Biden, in London for the fu...</td>\n",
       "    </tr>\n",
       "    <tr>\n",
       "      <th>...</th>\n",
       "      <td>...</td>\n",
       "      <td>...</td>\n",
       "    </tr>\n",
       "    <tr>\n",
       "      <th>209478</th>\n",
       "      <td>TRAVEL</td>\n",
       "      <td>As we stepped out of the serene plantation, we...</td>\n",
       "    </tr>\n",
       "    <tr>\n",
       "      <th>209479</th>\n",
       "      <td>WELLNESS</td>\n",
       "      <td>My great-aunt Ida loves to say, \"This is only ...</td>\n",
       "    </tr>\n",
       "    <tr>\n",
       "      <th>209480</th>\n",
       "      <td>STYLE &amp; BEAUTY</td>\n",
       "      <td>\"A Look Back\" is a daily column that highlight...</td>\n",
       "    </tr>\n",
       "    <tr>\n",
       "      <th>209512</th>\n",
       "      <td>ENTERTAINMENT</td>\n",
       "      <td>Representation of the collective diaspora has ...</td>\n",
       "    </tr>\n",
       "    <tr>\n",
       "      <th>209513</th>\n",
       "      <td>ENTERTAINMENT</td>\n",
       "      <td>\"Sony Pictures will not be releasing The Girl ...</td>\n",
       "    </tr>\n",
       "  </tbody>\n",
       "</table>\n",
       "<p>90623 rows × 2 columns</p>\n",
       "</div>"
      ],
      "text/plain": [
       "              category                                  short_description\n",
       "20       ENTERTAINMENT  For the past 18 months, Hollywood has effectiv...\n",
       "21            POLITICS  President issues vow as tensions with China rise.\n",
       "24            POLITICS  An annual celebration took on a different feel...\n",
       "28       ENTERTAINMENT  The \"Avatar\" director said aspects of his 2009...\n",
       "30            POLITICS  U.S. President Joe Biden, in London for the fu...\n",
       "...                ...                                                ...\n",
       "209478          TRAVEL  As we stepped out of the serene plantation, we...\n",
       "209479        WELLNESS  My great-aunt Ida loves to say, \"This is only ...\n",
       "209480  STYLE & BEAUTY  \"A Look Back\" is a daily column that highlight...\n",
       "209512   ENTERTAINMENT  Representation of the collective diaspora has ...\n",
       "209513   ENTERTAINMENT  \"Sony Pictures will not be releasing The Girl ...\n",
       "\n",
       "[90623 rows x 2 columns]"
      ]
     },
     "execution_count": 59,
     "metadata": {},
     "output_type": "execute_result"
    }
   ],
   "source": [
    "#lets focus only on the top 5 categories\n",
    "options= ['POLITICS', 'WELLNESS', 'ENTERTAINMENT','TRAVEL', 'STYLE & BEAUTY']\n",
    "data = data.loc[data.category.isin(options)]\n",
    "data"
   ]
  },
  {
   "cell_type": "code",
   "execution_count": 83,
   "metadata": {},
   "outputs": [
    {
     "data": {
      "text/plain": [
       "POLITICS          35602\n",
       "WELLNESS          17945\n",
       "ENTERTAINMENT     17362\n",
       "TRAVEL             9900\n",
       "STYLE & BEAUTY     9814\n",
       "Name: category, dtype: int64"
      ]
     },
     "execution_count": 83,
     "metadata": {},
     "output_type": "execute_result"
    }
   ],
   "source": [
    "#a lot of imbalance in the  data\n",
    "data.category.value_counts()"
   ]
  },
  {
   "cell_type": "code",
   "execution_count": 61,
   "metadata": {},
   "outputs": [],
   "source": [
    "# we can do under sampling \n",
    "#1) select the minimum wala section (style and beauty (9814)\n",
    "#2) random select 9814 samples from the other categories"
   ]
  },
  {
   "cell_type": "code",
   "execution_count": 84,
   "metadata": {},
   "outputs": [],
   "source": [
    "df_poli= data[data.category== 'POLITICS'].sample(random_state= 200, n= 9814)\n",
    "df_well= data[data.category== 'WELLNESS'].sample(random_state= 200, n= 9814)\n",
    "df_ent= data[data.category== 'ENTERTAINMENT'].sample(random_state= 200, n= 9814)\n",
    "df_trav= data[data.category== 'TRAVEL'].sample(random_state= 200, n= 9814)\n",
    "df_styl= data[data.category== 'STYLE & BEAUTY'].sample(random_state= 200, n= 9814)"
   ]
  },
  {
   "cell_type": "code",
   "execution_count": 94,
   "metadata": {},
   "outputs": [
    {
     "data": {
      "text/plain": [
       "POLITICS          9814\n",
       "WELLNESS          9814\n",
       "ENTERTAINMENT     9814\n",
       "TRAVEL            9814\n",
       "STYLE & BEAUTY    9814\n",
       "Name: category, dtype: int64"
      ]
     },
     "execution_count": 94,
     "metadata": {},
     "output_type": "execute_result"
    }
   ],
   "source": [
    "df= pd.concat([df_poli, df_well, df_ent, df_trav, df_styl], axis= 0)\n",
    "df.category.value_counts()"
   ]
  },
  {
   "cell_type": "code",
   "execution_count": 95,
   "metadata": {},
   "outputs": [
    {
     "data": {
      "text/html": [
       "<div>\n",
       "<style scoped>\n",
       "    .dataframe tbody tr th:only-of-type {\n",
       "        vertical-align: middle;\n",
       "    }\n",
       "\n",
       "    .dataframe tbody tr th {\n",
       "        vertical-align: top;\n",
       "    }\n",
       "\n",
       "    .dataframe thead th {\n",
       "        text-align: right;\n",
       "    }\n",
       "</style>\n",
       "<table border=\"1\" class=\"dataframe\">\n",
       "  <thead>\n",
       "    <tr style=\"text-align: right;\">\n",
       "      <th></th>\n",
       "      <th>category</th>\n",
       "      <th>short_description</th>\n",
       "    </tr>\n",
       "  </thead>\n",
       "  <tbody>\n",
       "    <tr>\n",
       "      <th>9453</th>\n",
       "      <td>POLITICS</td>\n",
       "      <td>So much for an all-out assault on Big Pharma.</td>\n",
       "    </tr>\n",
       "    <tr>\n",
       "      <th>58721</th>\n",
       "      <td>POLITICS</td>\n",
       "      <td>Trump’s newly appointed campaign manager was p...</td>\n",
       "    </tr>\n",
       "    <tr>\n",
       "      <th>84240</th>\n",
       "      <td>POLITICS</td>\n",
       "      <td>Investigators are reportedly scrutinizing whet...</td>\n",
       "    </tr>\n",
       "    <tr>\n",
       "      <th>5560</th>\n",
       "      <td>POLITICS</td>\n",
       "      <td>The president dismissed the country's hints at...</td>\n",
       "    </tr>\n",
       "    <tr>\n",
       "      <th>37390</th>\n",
       "      <td>POLITICS</td>\n",
       "      <td>We have worked too hard and sacrificed too muc...</td>\n",
       "    </tr>\n",
       "  </tbody>\n",
       "</table>\n",
       "</div>"
      ],
      "text/plain": [
       "       category                                  short_description\n",
       "9453   POLITICS      So much for an all-out assault on Big Pharma.\n",
       "58721  POLITICS  Trump’s newly appointed campaign manager was p...\n",
       "84240  POLITICS  Investigators are reportedly scrutinizing whet...\n",
       "5560   POLITICS  The president dismissed the country's hints at...\n",
       "37390  POLITICS  We have worked too hard and sacrificed too muc..."
      ]
     },
     "execution_count": 95,
     "metadata": {},
     "output_type": "execute_result"
    }
   ],
   "source": [
    "df.head(5)"
   ]
  },
  {
   "cell_type": "code",
   "execution_count": 103,
   "metadata": {},
   "outputs": [
    {
     "data": {
      "text/html": [
       "<div>\n",
       "<style scoped>\n",
       "    .dataframe tbody tr th:only-of-type {\n",
       "        vertical-align: middle;\n",
       "    }\n",
       "\n",
       "    .dataframe tbody tr th {\n",
       "        vertical-align: top;\n",
       "    }\n",
       "\n",
       "    .dataframe thead th {\n",
       "        text-align: right;\n",
       "    }\n",
       "</style>\n",
       "<table border=\"1\" class=\"dataframe\">\n",
       "  <thead>\n",
       "    <tr style=\"text-align: right;\">\n",
       "      <th></th>\n",
       "      <th>category</th>\n",
       "      <th>short_description</th>\n",
       "    </tr>\n",
       "  </thead>\n",
       "  <tbody>\n",
       "    <tr>\n",
       "      <th>9453</th>\n",
       "      <td>1</td>\n",
       "      <td>So much for an all-out assault on Big Pharma.</td>\n",
       "    </tr>\n",
       "    <tr>\n",
       "      <th>58721</th>\n",
       "      <td>1</td>\n",
       "      <td>Trump’s newly appointed campaign manager was p...</td>\n",
       "    </tr>\n",
       "    <tr>\n",
       "      <th>84240</th>\n",
       "      <td>1</td>\n",
       "      <td>Investigators are reportedly scrutinizing whet...</td>\n",
       "    </tr>\n",
       "    <tr>\n",
       "      <th>5560</th>\n",
       "      <td>1</td>\n",
       "      <td>The president dismissed the country's hints at...</td>\n",
       "    </tr>\n",
       "    <tr>\n",
       "      <th>37390</th>\n",
       "      <td>1</td>\n",
       "      <td>We have worked too hard and sacrificed too muc...</td>\n",
       "    </tr>\n",
       "  </tbody>\n",
       "</table>\n",
       "</div>"
      ],
      "text/plain": [
       "       category                                  short_description\n",
       "9453          1      So much for an all-out assault on Big Pharma.\n",
       "58721         1  Trump’s newly appointed campaign manager was p...\n",
       "84240         1  Investigators are reportedly scrutinizing whet...\n",
       "5560          1  The president dismissed the country's hints at...\n",
       "37390         1  We have worked too hard and sacrificed too muc..."
      ]
     },
     "execution_count": 103,
     "metadata": {},
     "output_type": "execute_result"
    }
   ],
   "source": [
    "#you need to replace these text labels with numbers encoding\n",
    "\n",
    "from sklearn.preprocessing import LabelEncoder\n",
    "l= LabelEncoder()\n",
    "df.category= l.fit_transform(df.category)\n",
    "df.head(5)"
   ]
  },
  {
   "cell_type": "code",
   "execution_count": 104,
   "metadata": {},
   "outputs": [
    {
     "data": {
      "text/plain": [
       "1    9814\n",
       "4    9814\n",
       "0    9814\n",
       "3    9814\n",
       "2    9814\n",
       "Name: category, dtype: int64"
      ]
     },
     "execution_count": 104,
     "metadata": {},
     "output_type": "execute_result"
    }
   ],
   "source": [
    "df.category.value_counts()"
   ]
  },
  {
   "cell_type": "code",
   "execution_count": 108,
   "metadata": {},
   "outputs": [
    {
     "data": {
      "text/html": [
       "<div>\n",
       "<style scoped>\n",
       "    .dataframe tbody tr th:only-of-type {\n",
       "        vertical-align: middle;\n",
       "    }\n",
       "\n",
       "    .dataframe tbody tr th {\n",
       "        vertical-align: top;\n",
       "    }\n",
       "\n",
       "    .dataframe thead th {\n",
       "        text-align: right;\n",
       "    }\n",
       "</style>\n",
       "<table border=\"1\" class=\"dataframe\">\n",
       "  <thead>\n",
       "    <tr style=\"text-align: right;\">\n",
       "      <th></th>\n",
       "      <th>category</th>\n",
       "      <th>short_description</th>\n",
       "    </tr>\n",
       "  </thead>\n",
       "  <tbody>\n",
       "    <tr>\n",
       "      <th>9453</th>\n",
       "      <td>1</td>\n",
       "      <td>So much for an all-out assault on Big Pharma.</td>\n",
       "    </tr>\n",
       "    <tr>\n",
       "      <th>58721</th>\n",
       "      <td>1</td>\n",
       "      <td>Trump’s newly appointed campaign manager was p...</td>\n",
       "    </tr>\n",
       "    <tr>\n",
       "      <th>84240</th>\n",
       "      <td>1</td>\n",
       "      <td>Investigators are reportedly scrutinizing whet...</td>\n",
       "    </tr>\n",
       "    <tr>\n",
       "      <th>5560</th>\n",
       "      <td>1</td>\n",
       "      <td>The president dismissed the country's hints at...</td>\n",
       "    </tr>\n",
       "    <tr>\n",
       "      <th>37390</th>\n",
       "      <td>1</td>\n",
       "      <td>We have worked too hard and sacrificed too muc...</td>\n",
       "    </tr>\n",
       "    <tr>\n",
       "      <th>...</th>\n",
       "      <td>...</td>\n",
       "      <td>...</td>\n",
       "    </tr>\n",
       "    <tr>\n",
       "      <th>200102</th>\n",
       "      <td>2</td>\n",
       "      <td>A former employee of Chris Burch, Tory's ex an...</td>\n",
       "    </tr>\n",
       "    <tr>\n",
       "      <th>203065</th>\n",
       "      <td>2</td>\n",
       "      <td>But Kelly Osbourne truly stepped up to the pla...</td>\n",
       "    </tr>\n",
       "    <tr>\n",
       "      <th>206135</th>\n",
       "      <td>2</td>\n",
       "      <td>At first glance, raffia may appear to be a fab...</td>\n",
       "    </tr>\n",
       "    <tr>\n",
       "      <th>139960</th>\n",
       "      <td>2</td>\n",
       "      <td>Kelly Rowland While there were certainly some ...</td>\n",
       "    </tr>\n",
       "    <tr>\n",
       "      <th>150384</th>\n",
       "      <td>2</td>\n",
       "      <td>Want more? Be sure to check out HuffPost Style...</td>\n",
       "    </tr>\n",
       "  </tbody>\n",
       "</table>\n",
       "<p>49070 rows × 2 columns</p>\n",
       "</div>"
      ],
      "text/plain": [
       "        category                                  short_description\n",
       "9453           1      So much for an all-out assault on Big Pharma.\n",
       "58721          1  Trump’s newly appointed campaign manager was p...\n",
       "84240          1  Investigators are reportedly scrutinizing whet...\n",
       "5560           1  The president dismissed the country's hints at...\n",
       "37390          1  We have worked too hard and sacrificed too muc...\n",
       "...          ...                                                ...\n",
       "200102         2  A former employee of Chris Burch, Tory's ex an...\n",
       "203065         2  But Kelly Osbourne truly stepped up to the pla...\n",
       "206135         2  At first glance, raffia may appear to be a fab...\n",
       "139960         2  Kelly Rowland While there were certainly some ...\n",
       "150384         2  Want more? Be sure to check out HuffPost Style...\n",
       "\n",
       "[49070 rows x 2 columns]"
      ]
     },
     "execution_count": 108,
     "metadata": {},
     "output_type": "execute_result"
    }
   ],
   "source": [
    "df"
   ]
  },
  {
   "cell_type": "code",
   "execution_count": 113,
   "metadata": {},
   "outputs": [],
   "source": [
    "from sklearn.model_selection import train_test_split\n",
    "x_train, x_test, y_train, y_test= train_test_split(df.short_description, df.category, test_size= 0.2, stratify= df.category, random_state= 200)"
   ]
  },
  {
   "cell_type": "code",
   "execution_count": 114,
   "metadata": {},
   "outputs": [
    {
     "data": {
      "text/plain": [
       "1    1963\n",
       "2    1963\n",
       "4    1963\n",
       "0    1963\n",
       "3    1962\n",
       "Name: category, dtype: int64"
      ]
     },
     "execution_count": 114,
     "metadata": {},
     "output_type": "execute_result"
    }
   ],
   "source": [
    "#stratify\n",
    "y_test.value_counts()"
   ]
  },
  {
   "cell_type": "code",
   "execution_count": 129,
   "metadata": {},
   "outputs": [],
   "source": [
    "from sklearn.pipeline import Pipeline\n",
    "from sklearn.feature_extraction.text import CountVectorizer\n",
    "from sklearn.metrics import classification_report"
   ]
  },
  {
   "cell_type": "markdown",
   "metadata": {},
   "source": [
    "## Without any preprocessing"
   ]
  },
  {
   "cell_type": "code",
   "execution_count": 137,
   "metadata": {},
   "outputs": [
    {
     "name": "stdout",
     "output_type": "stream",
     "text": [
      "              precision    recall  f1-score   support\n",
      "\n",
      "           0       0.75      0.44      0.56      1963\n",
      "           1       0.82      0.69      0.75      1963\n",
      "           2       0.81      0.77      0.79      1963\n",
      "           3       0.64      0.81      0.71      1962\n",
      "           4       0.66      0.88      0.76      1963\n",
      "\n",
      "    accuracy                           0.72      9814\n",
      "   macro avg       0.74      0.72      0.71      9814\n",
      "weighted avg       0.74      0.72      0.71      9814\n",
      "\n"
     ]
    }
   ],
   "source": [
    "#this is the BOW MODEL (1 GRAM)\n",
    "from sklearn.naive_bayes import MultinomialNB\n",
    "\n",
    "clf= Pipeline([\n",
    "    ('vectorizer', CountVectorizer()),\n",
    "    ('nb', MultinomialNB())\n",
    "])\n",
    "\n",
    "clf.fit(x_train, y_train)\n",
    "\n",
    "y_pred= clf.predict(x_test)\n",
    "\n",
    "print(classification_report(y_test, y_pred))"
   ]
  },
  {
   "cell_type": "code",
   "execution_count": 140,
   "metadata": {},
   "outputs": [
    {
     "name": "stdout",
     "output_type": "stream",
     "text": [
      "              precision    recall  f1-score   support\n",
      "\n",
      "           0       0.87      0.32      0.46      1963\n",
      "           1       0.86      0.62      0.72      1963\n",
      "           2       0.79      0.75      0.77      1963\n",
      "           3       0.60      0.82      0.69      1962\n",
      "           4       0.58      0.92      0.71      1963\n",
      "\n",
      "    accuracy                           0.69      9814\n",
      "   macro avg       0.74      0.69      0.67      9814\n",
      "weighted avg       0.74      0.69      0.67      9814\n",
      "\n"
     ]
    }
   ],
   "source": [
    "# THIS IS THE COMBINATION OF BOW(1 RGAM) AND 2 GRAM MODEL\n",
    "from sklearn.naive_bayes import MultinomialNB\n",
    "\n",
    "clf= Pipeline([\n",
    "    ('vectorizer', CountVectorizer(ngram_range=(1, 2))),\n",
    "    ('nb', MultinomialNB())\n",
    "])\n",
    "\n",
    "clf.fit(x_train, y_train)\n",
    "\n",
    "y_pred= clf.predict(x_test)\n",
    "\n",
    "print(classification_report(y_test, y_pred))"
   ]
  },
  {
   "cell_type": "markdown",
   "metadata": {},
   "source": [
    "## AFTER PREPROCESSING"
   ]
  },
  {
   "cell_type": "code",
   "execution_count": 144,
   "metadata": {},
   "outputs": [],
   "source": [
    "# remove stop words, remove punct, convert in base word\n",
    "\n",
    "def preprocess(text):\n",
    "    doc= nlp(text)\n",
    "\n",
    "    filter= []\n",
    "\n",
    "    for token in doc:\n",
    "        if not token.is_stop and not token.is_punct:\n",
    "            filter.append(token.lemma_) \n",
    "\n",
    "    return ' '.join(filter)        "
   ]
  },
  {
   "cell_type": "code",
   "execution_count": 146,
   "metadata": {},
   "outputs": [],
   "source": [
    "df['short_description_new'] = df['short_description'].apply(preprocess) "
   ]
  },
  {
   "cell_type": "code",
   "execution_count": 148,
   "metadata": {},
   "outputs": [
    {
     "data": {
      "text/html": [
       "<div>\n",
       "<style scoped>\n",
       "    .dataframe tbody tr th:only-of-type {\n",
       "        vertical-align: middle;\n",
       "    }\n",
       "\n",
       "    .dataframe tbody tr th {\n",
       "        vertical-align: top;\n",
       "    }\n",
       "\n",
       "    .dataframe thead th {\n",
       "        text-align: right;\n",
       "    }\n",
       "</style>\n",
       "<table border=\"1\" class=\"dataframe\">\n",
       "  <thead>\n",
       "    <tr style=\"text-align: right;\">\n",
       "      <th></th>\n",
       "      <th>category</th>\n",
       "      <th>short_description</th>\n",
       "      <th>short_description_new</th>\n",
       "    </tr>\n",
       "  </thead>\n",
       "  <tbody>\n",
       "    <tr>\n",
       "      <th>9453</th>\n",
       "      <td>1</td>\n",
       "      <td>So much for an all-out assault on Big Pharma.</td>\n",
       "      <td>assault Big Pharma</td>\n",
       "    </tr>\n",
       "    <tr>\n",
       "      <th>58721</th>\n",
       "      <td>1</td>\n",
       "      <td>Trump’s newly appointed campaign manager was p...</td>\n",
       "      <td>Trump newly appoint campaign manager press pla...</td>\n",
       "    </tr>\n",
       "    <tr>\n",
       "      <th>84240</th>\n",
       "      <td>1</td>\n",
       "      <td>Investigators are reportedly scrutinizing whet...</td>\n",
       "      <td>investigator reportedly scrutinize company mis...</td>\n",
       "    </tr>\n",
       "    <tr>\n",
       "      <th>5560</th>\n",
       "      <td>1</td>\n",
       "      <td>The president dismissed the country's hints at...</td>\n",
       "      <td>president dismiss country hint missile test sa...</td>\n",
       "    </tr>\n",
       "    <tr>\n",
       "      <th>37390</th>\n",
       "      <td>1</td>\n",
       "      <td>We have worked too hard and sacrificed too muc...</td>\n",
       "      <td>work hard sacrifice treat like help</td>\n",
       "    </tr>\n",
       "  </tbody>\n",
       "</table>\n",
       "</div>"
      ],
      "text/plain": [
       "       category                                  short_description  \\\n",
       "9453          1      So much for an all-out assault on Big Pharma.   \n",
       "58721         1  Trump’s newly appointed campaign manager was p...   \n",
       "84240         1  Investigators are reportedly scrutinizing whet...   \n",
       "5560          1  The president dismissed the country's hints at...   \n",
       "37390         1  We have worked too hard and sacrificed too muc...   \n",
       "\n",
       "                                   short_description_new  \n",
       "9453                                  assault Big Pharma  \n",
       "58721  Trump newly appoint campaign manager press pla...  \n",
       "84240  investigator reportedly scrutinize company mis...  \n",
       "5560   president dismiss country hint missile test sa...  \n",
       "37390                work hard sacrifice treat like help  "
      ]
     },
     "execution_count": 148,
     "metadata": {},
     "output_type": "execute_result"
    }
   ],
   "source": [
    "df.head(5)"
   ]
  },
  {
   "cell_type": "code",
   "execution_count": 149,
   "metadata": {},
   "outputs": [],
   "source": [
    "x_train, x_test, y_train, y_test= train_test_split(df.short_description_new, df.category, test_size= 0.2, stratify= df.category, random_state= 200)"
   ]
  },
  {
   "cell_type": "code",
   "execution_count": 150,
   "metadata": {},
   "outputs": [
    {
     "data": {
      "text/plain": [
       "184397    ton space site party planner hotel host devili...\n",
       "120972    football great sport people crave structure   ...\n",
       "149361    Kindness Incident 1 day take hot yoga class No...\n",
       "168590    good thing New York City inspire people street...\n",
       "92878        Cara Delevingne exist feed narrative news feed\n",
       "                                ...                        \n",
       "144092    source Benson Henry Institute 2 engage relaxat...\n",
       "27338                                    go Star Wars movie\n",
       "156730    quit caffeine easy feel consumption bad habit ...\n",
       "157680    thirteen year apply Fulbright program month be...\n",
       "1310      follow simple expert back hack inject a.m. lit...\n",
       "Name: short_description_new, Length: 39256, dtype: object"
      ]
     },
     "execution_count": 150,
     "metadata": {},
     "output_type": "execute_result"
    }
   ],
   "source": [
    "x_train"
   ]
  },
  {
   "cell_type": "code",
   "execution_count": 151,
   "metadata": {},
   "outputs": [
    {
     "name": "stdout",
     "output_type": "stream",
     "text": [
      "              precision    recall  f1-score   support\n",
      "\n",
      "           0       0.74      0.46      0.56      1963\n",
      "           1       0.81      0.71      0.76      1963\n",
      "           2       0.80      0.79      0.79      1963\n",
      "           3       0.63      0.82      0.71      1962\n",
      "           4       0.71      0.87      0.78      1963\n",
      "\n",
      "    accuracy                           0.73      9814\n",
      "   macro avg       0.74      0.73      0.72      9814\n",
      "weighted avg       0.74      0.73      0.72      9814\n",
      "\n"
     ]
    }
   ],
   "source": [
    "#this is the BOW MODEL (1 GRAM)\n",
    "from sklearn.naive_bayes import MultinomialNB\n",
    "\n",
    "clf= Pipeline([\n",
    "    ('vectorizer', CountVectorizer()),\n",
    "    ('nb', MultinomialNB())\n",
    "])\n",
    "\n",
    "clf.fit(x_train, y_train)\n",
    "\n",
    "y_pred= clf.predict(x_test)\n",
    "\n",
    "print(classification_report(y_test, y_pred))"
   ]
  },
  {
   "cell_type": "code",
   "execution_count": 155,
   "metadata": {},
   "outputs": [
    {
     "name": "stdout",
     "output_type": "stream",
     "text": [
      "              precision    recall  f1-score   support\n",
      "\n",
      "           0       0.83      0.35      0.49      1963\n",
      "           1       0.84      0.67      0.75      1963\n",
      "           2       0.79      0.80      0.80      1963\n",
      "           3       0.61      0.84      0.71      1962\n",
      "           4       0.66      0.90      0.76      1963\n",
      "\n",
      "    accuracy                           0.72      9814\n",
      "   macro avg       0.75      0.72      0.70      9814\n",
      "weighted avg       0.75      0.72      0.70      9814\n",
      "\n"
     ]
    }
   ],
   "source": [
    "# THIS IS THE COMBINATION OF BOW(1 RGAM) AND 2 GRAM MODEL\n",
    "from sklearn.naive_bayes import MultinomialNB\n",
    "\n",
    "clf= Pipeline([\n",
    "    ('vectorizer', CountVectorizer(ngram_range=(1, 2))),\n",
    "    ('nb', MultinomialNB())\n",
    "])\n",
    "\n",
    "clf.fit(x_train, y_train)\n",
    "\n",
    "y_pred= clf.predict(x_test)\n",
    "\n",
    "print(classification_report(y_test, y_pred))"
   ]
  }
 ],
 "metadata": {
  "kernelspec": {
   "display_name": "Python 3",
   "language": "python",
   "name": "python3"
  },
  "language_info": {
   "codemirror_mode": {
    "name": "ipython",
    "version": 3
   },
   "file_extension": ".py",
   "mimetype": "text/x-python",
   "name": "python",
   "nbconvert_exporter": "python",
   "pygments_lexer": "ipython3",
   "version": "3.10.7"
  },
  "orig_nbformat": 4
 },
 "nbformat": 4,
 "nbformat_minor": 2
}
